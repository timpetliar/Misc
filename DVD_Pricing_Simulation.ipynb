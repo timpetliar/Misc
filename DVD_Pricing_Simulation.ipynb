{
 "cells": [
  {
   "cell_type": "markdown",
   "metadata": {},
   "source": [
    "Simulation Methodology:\n",
    "\n",
    "The uniform distribtuion of $v \\sim [0, \\psi]$ is approximated by an evenly spaced mesh with the number of elements given by the paramter num_boxes. The coarsness if the mesh is given by the variable step_size .\n",
    "\n",
    "\n",
    "For a given index i, g[i] is the number of consumer with valuation between step_size * i and step_size * i + 1 (the integral of g(v)). For the compution, all the consumers in g[i] are assumed to have valuation g[i] * step_size, the lower bound of the true range of valutions. Given a time and price, the variable integrate_from = $ \\lceil \\frac{p_t}{\\text{a_t * self.step_size}} \\rceil $ is the index starting from which the values of g[i] will be summed (this is appromxation to the integration used to obtain the quantity sold). \n"
   ]
  },
  {
   "cell_type": "code",
   "execution_count": 1,
   "metadata": {
    "collapsed": false
   },
   "outputs": [],
   "source": [
    "% matplotlib inline\n",
    "import numpy as np\n",
    "import csv\n",
    "import matplotlib.pyplot as plt\n",
    "\n",
    "#This part reads the csv file with the data to create time, price, observed quantity \n",
    "\n",
    "pq_data = open('pqdata.csv','r')\n",
    "t_val=[]\n",
    "q_val = []\n",
    "p_val = []\n",
    "line = iter(pq_data)\n",
    "line = next(line)\n",
    "for line in pq_data:\n",
    "   \n",
    "    t, p, q = line.split(',')\n",
    "    t_val.append(int(t))\n",
    "    p_val.append(float(p))\n",
    "    q_val.append(float(q))\n",
    "\n",
    "#Create a class to represent the model    \n",
    "class DVD_Bundling:\n",
    "    def __init__(self, eta, phi, nu, psi, tau, omega, num_boxes, p_val):\n",
    "        self.eta = eta # eta = population size\n",
    "        self.phi = phi # phi = decision probability\n",
    "        self.nu = nu   # nu = population \"death\" rate\n",
    "        self.psi = psi # highest valuation in $\n",
    "        self.tau = tau # week after which obsolescence begins\n",
    "        self.omega = omega # limit of valuation discount rate\n",
    "        self.num_boxes  = num_boxes\n",
    "        self.v_values, self.step_size = np.linspace(0, self.psi, num = self.num_boxes, endpoint = False, retstep = True, dtype = float )\n",
    "        self.f = 1/self.psi #uniform density\n",
    "        self.g = []  # The number of people with a valuations in intervals corresponding to coarsness of mesh\n",
    "        for i in range(0, self.num_boxes):\n",
    "            self.g.append(self.eta * self.f * self.step_size) #number of people in each box of the approxmation for the g(v)\n",
    "        self.q = [0]\n",
    "        self.prices = p_val #price data\n",
    "        \n",
    "    def __g_update__(self, integrate_from): #This method computes the new g(v)\n",
    "            \n",
    "        for i in range (0, self.num_boxes): #When discounted valution less than the price (no purchases)\n",
    "            if i < integrate_from:\n",
    "                g_new = (1- self.nu) * self.g[i] + self.nu * self.eta * self.f * self.step_size\n",
    "                self.g[i] = g_new\n",
    "                \n",
    "            else: #When discounted valuation exceeds price and some fraction purchase\n",
    "                g_new = (1 - self.phi) *(1 - self.nu) * self.g[i] + self.nu * self.eta * self.f * self.step_size\n",
    "                \n",
    "                self.g[0] += (1 - self.phi) *(1 - self.nu) * self.g[i] #Those who have already purchased go to zero bucket\n",
    "                self.g[i] = g_new\n",
    "                    \n",
    "        return None\n",
    "        \n",
    "    def __compute_q__(self, integrate_from): # This function approximated the integration used to obtain the quanity purchased\n",
    "            \n",
    "        q_t = 0.0 #initialize to zero (no buyers)\n",
    "        if integrate_from > (self.num_boxes - 1): #if price were to exceed maximum valuation,then there would be no buyers\n",
    "            pass\n",
    "        else:\n",
    "            for i in range(int(integrate_from), self.num_boxes):\n",
    "                #print(i)\n",
    "                q_t += self.g[i] #sum of conusmer that have valuation greater than bound for summation (appromxation to integration)\n",
    "        return (q_t * self.phi) #multiply final resuly by phi, the awareness/probability of purchase parameter\n",
    "        \n",
    "    def __discount__(self, t):#This function computes the discount rate for each time value\n",
    "             \n",
    "        if t <= self.tau:\n",
    "            a_t = 1\n",
    "        else:\n",
    "            a_t = self.omega + np.power((1 - self.omega), (t/self.tau))\n",
    "            \n",
    "        return a_t\n",
    "        \n",
    "    def __integrate_from__(self, p_t, a_t): #lower bound for 'integration'\n",
    "            \n",
    "        integrate_from = np.ceil(p_t/(a_t * self.step_size)) #converts from indexing by value to indexing by box number\n",
    "        return integrate_from\n",
    "        \n",
    "    def simulate_path(self, time): #The main to generate model results\n",
    "             \n",
    "        for t in range(1, time): #time zero exclued\n",
    "            p_t = self.prices[t]\n",
    "            a_t = self.__discount__(t)\n",
    "            integrate_from = self.__integrate_from__(p_t, a_t)\n",
    "            self.__g_update__(integrate_from)\n",
    "            q_t = self.__compute_q__(integrate_from)\n",
    "            self.q.append(q_t)\n",
    "        return self.q    \n",
    "                \n",
    "                    \n",
    "                \n",
    "            \n",
    "            \n",
    "            \n",
    "            \n",
    "                               \n",
    "            \n",
    "            \n",
    "        \n",
    "                    \n",
    "                \n",
    "                \n",
    "                \n",
    "            \n",
    "        \n",
    "            \n",
    "            \n",
    "            \n",
    "        \n",
    "        \n",
    "    \n",
    "        "
   ]
  },
  {
   "cell_type": "code",
   "execution_count": 2,
   "metadata": {
    "collapsed": false,
    "scrolled": true
   },
   "outputs": [],
   "source": [
    "test = DVD_Bundling(3000, .03,.005, 50, 3,  0.22, 10000, p_val)\n",
    "test.__discount__(100)\n",
    "test.prices[100]\n",
    "test.__integrate_from__(10.0315, test.__discount__(100)) * test.step_size\n",
    "test.step_size\n",
    "x = test.simulate_path(260)\n",
    "\n"
   ]
  },
  {
   "cell_type": "code",
   "execution_count": 3,
   "metadata": {
    "collapsed": false
   },
   "outputs": [
    {
     "data": {
      "image/png": "[encoded data removed]",
      "text/plain": [
       "<matplotlib.figure.Figure at 0x5f454e0>"
      ]
     },
     "metadata": {},
     "output_type": "display_data"
    }
   ],
   "source": [
    "plt.plot(t_val, q_val, label = 'data')\n",
    "plt.ylim(ymin = 0, ymax =35)\n",
    "plt.plot(t_val, test.q , label = 'model')\n",
    "plt.legend()\n",
    "plt.title( \"$\\psi = 50$\")\n",
    "plt.show()"
   ]
  },
  {
   "cell_type": "code",
   "execution_count": 4,
   "metadata": {
    "collapsed": false
   },
   "outputs": [],
   "source": [
    "test_2 = DVD_Bundling(3000, .03,.005, 100, 3,  0.22, 10000, p_val)\n",
    "y = test_2.simulate_path(260)"
   ]
  },
  {
   "cell_type": "code",
   "execution_count": 5,
   "metadata": {
    "collapsed": false
   },
   "outputs": [
    {
     "data": {
      "image/png": "[encoded data removed]",
      "text/plain": [
       "<matplotlib.figure.Figure at 0x633dc88>"
      ]
     },
     "metadata": {},
     "output_type": "display_data"
    }
   ],
   "source": [
    "plt.plot(t_val, q_val, label = 'data')\n",
    "plt.ylim(ymin = 0, ymax =35)\n",
    "plt.plot(t_val, test_2.q , label = 'model')\n",
    "plt.legend()\n",
    "plt.title( \"$\\psi = 100$\")\n",
    "plt.show()"
   ]
  },
  {
   "cell_type": "code",
   "execution_count": null,
   "metadata": {
    "collapsed": true
   },
   "outputs": [],
   "source": []
  },
  {
   "cell_type": "code",
   "execution_count": null,
   "metadata": {
    "collapsed": true
   },
   "outputs": [],
   "source": []
  }
 ],
 "metadata": {
  "kernelspec": {
   "display_name": "Python 3",
   "language": "python",
   "name": "python3"
  },
  "language_info": {
   "codemirror_mode": {
    "name": "ipython",
    "version": 3
   },
   "file_extension": ".py",
   "mimetype": "text/x-python",
   "name": "python",
   "nbconvert_exporter": "python",
   "pygments_lexer": "ipython3",
   "version": "3.5.1"
  }
 },
 "nbformat": 4,
 "nbformat_minor": 0
}
